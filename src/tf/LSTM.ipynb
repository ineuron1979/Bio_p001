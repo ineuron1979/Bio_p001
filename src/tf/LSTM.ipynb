{
  "nbformat": 4,
  "nbformat_minor": 0,
  "metadata": {
    "colab": {
      "name": "LSTM.ipynb",
      "provenance": [],
      "collapsed_sections": []
    },
    "kernelspec": {
      "name": "python3",
      "display_name": "Python 3"
    },
    "accelerator": "GPU"
  },
  "cells": [
    {
      "cell_type": "code",
      "metadata": {
        "id": "6GpkSX2law3M",
        "colab_type": "code",
        "outputId": "a8047969-96f2-4e2c-cf8b-2e3833467cc1",
        "colab": {
          "base_uri": "https://localhost:8080/",
          "height": 1006
        }
      },
      "source": [
        "#!kill -9 -1\n",
        "!pip install tensorflow==1.9.0\n",
        "!pip install keras\n",
        "!pip install dropbox"
      ],
      "execution_count": 0,
      "outputs": [
        {
          "output_type": "stream",
          "text": [
            "Collecting tensorflow==1.9.0\n",
            "\u001b[?25l  Downloading https://files.pythonhosted.org/packages/86/95/274190b39950e1e9eef4b071acefea832ac3e2c19bb4b442fa54f3214d2e/tensorflow-1.9.0-cp36-cp36m-manylinux1_x86_64.whl (51.1MB)\n",
            "\u001b[K    100% |████████████████████████████████| 51.1MB 870kB/s \n",
            "\u001b[?25hRequirement already satisfied: protobuf>=3.4.0 in /usr/local/lib/python3.6/dist-packages (from tensorflow==1.9.0) (3.7.1)\n",
            "Requirement already satisfied: numpy>=1.13.3 in /usr/local/lib/python3.6/dist-packages (from tensorflow==1.9.0) (1.14.6)\n",
            "Requirement already satisfied: termcolor>=1.1.0 in /usr/local/lib/python3.6/dist-packages (from tensorflow==1.9.0) (1.1.0)\n",
            "Requirement already satisfied: absl-py>=0.1.6 in /usr/local/lib/python3.6/dist-packages (from tensorflow==1.9.0) (0.7.1)\n",
            "Requirement already satisfied: gast>=0.2.0 in /usr/local/lib/python3.6/dist-packages (from tensorflow==1.9.0) (0.2.2)\n",
            "Requirement already satisfied: wheel>=0.26 in /usr/local/lib/python3.6/dist-packages (from tensorflow==1.9.0) (0.33.1)\n",
            "Requirement already satisfied: astor>=0.6.0 in /usr/local/lib/python3.6/dist-packages (from tensorflow==1.9.0) (0.7.1)\n",
            "Requirement already satisfied: grpcio>=1.8.6 in /usr/local/lib/python3.6/dist-packages (from tensorflow==1.9.0) (1.15.0)\n",
            "Collecting tensorboard<1.10.0,>=1.9.0 (from tensorflow==1.9.0)\n",
            "\u001b[?25l  Downloading https://files.pythonhosted.org/packages/9e/1f/3da43860db614e294a034e42d4be5c8f7f0d2c75dc1c428c541116d8cdab/tensorboard-1.9.0-py3-none-any.whl (3.3MB)\n",
            "\u001b[K    100% |████████████████████████████████| 3.3MB 6.5MB/s \n",
            "\u001b[?25hCollecting setuptools<=39.1.0 (from tensorflow==1.9.0)\n",
            "\u001b[?25l  Downloading https://files.pythonhosted.org/packages/8c/10/79282747f9169f21c053c562a0baa21815a8c7879be97abd930dbcf862e8/setuptools-39.1.0-py2.py3-none-any.whl (566kB)\n",
            "\u001b[K    100% |████████████████████████████████| 573kB 16.9MB/s \n",
            "\u001b[?25hRequirement already satisfied: six>=1.10.0 in /usr/local/lib/python3.6/dist-packages (from tensorflow==1.9.0) (1.11.0)\n",
            "Requirement already satisfied: werkzeug>=0.11.10 in /usr/local/lib/python3.6/dist-packages (from tensorboard<1.10.0,>=1.9.0->tensorflow==1.9.0) (0.15.1)\n",
            "Requirement already satisfied: markdown>=2.6.8 in /usr/local/lib/python3.6/dist-packages (from tensorboard<1.10.0,>=1.9.0->tensorflow==1.9.0) (3.1)\n",
            "\u001b[31mmagenta 0.3.19 has requirement tensorflow>=1.12.0, but you'll have tensorflow 1.9.0 which is incompatible.\u001b[0m\n",
            "\u001b[31mdatascience 0.10.6 has requirement folium==0.2.1, but you'll have folium 0.8.3 which is incompatible.\u001b[0m\n",
            "Installing collected packages: tensorboard, setuptools, tensorflow\n",
            "  Found existing installation: tensorboard 1.13.1\n",
            "    Uninstalling tensorboard-1.13.1:\n",
            "      Successfully uninstalled tensorboard-1.13.1\n",
            "  Found existing installation: setuptools 40.8.0\n",
            "    Uninstalling setuptools-40.8.0:\n",
            "      Successfully uninstalled setuptools-40.8.0\n",
            "  Found existing installation: tensorflow 1.13.1\n",
            "    Uninstalling tensorflow-1.13.1:\n",
            "      Successfully uninstalled tensorflow-1.13.1\n",
            "Successfully installed setuptools-39.1.0 tensorboard-1.9.0 tensorflow-1.9.0\n"
          ],
          "name": "stdout"
        },
        {
          "output_type": "display_data",
          "data": {
            "application/vnd.colab-display-data+json": {
              "pip_warning": {
                "packages": [
                  "pkg_resources"
                ]
              }
            }
          },
          "metadata": {
            "tags": []
          }
        },
        {
          "output_type": "stream",
          "text": [
            "Requirement already satisfied: keras in /usr/local/lib/python3.6/dist-packages (2.2.4)\n",
            "Requirement already satisfied: pyyaml in /usr/local/lib/python3.6/dist-packages (from keras) (3.13)\n",
            "Requirement already satisfied: scipy>=0.14 in /usr/local/lib/python3.6/dist-packages (from keras) (1.1.0)\n",
            "Requirement already satisfied: keras-applications>=1.0.6 in /usr/local/lib/python3.6/dist-packages (from keras) (1.0.7)\n",
            "Requirement already satisfied: keras-preprocessing>=1.0.5 in /usr/local/lib/python3.6/dist-packages (from keras) (1.0.9)\n",
            "Requirement already satisfied: numpy>=1.9.1 in /usr/local/lib/python3.6/dist-packages (from keras) (1.14.6)\n",
            "Requirement already satisfied: six>=1.9.0 in /usr/local/lib/python3.6/dist-packages (from keras) (1.11.0)\n",
            "Requirement already satisfied: h5py in /usr/local/lib/python3.6/dist-packages (from keras) (2.8.0)\n",
            "Collecting dropbox\n",
            "\u001b[?25l  Downloading https://files.pythonhosted.org/packages/bd/20/4e55247e4e474aa741d209a533f4e490ea08a0f2cf84e7fa49cd38c3b54b/dropbox-9.3.0-py3-none-any.whl (503kB)\n",
            "\u001b[K    100% |████████████████████████████████| 512kB 21.2MB/s \n",
            "\u001b[?25hRequirement already satisfied: six>=1.3.0 in /usr/local/lib/python3.6/dist-packages (from dropbox) (1.11.0)\n",
            "Requirement already satisfied: requests>=2.16.2 in /usr/local/lib/python3.6/dist-packages (from dropbox) (2.18.4)\n",
            "Requirement already satisfied: urllib3<1.23,>=1.21.1 in /usr/local/lib/python3.6/dist-packages (from requests>=2.16.2->dropbox) (1.22)\n",
            "Requirement already satisfied: idna<2.7,>=2.5 in /usr/local/lib/python3.6/dist-packages (from requests>=2.16.2->dropbox) (2.6)\n",
            "Requirement already satisfied: chardet<3.1.0,>=3.0.2 in /usr/local/lib/python3.6/dist-packages (from requests>=2.16.2->dropbox) (3.0.4)\n",
            "Requirement already satisfied: certifi>=2017.4.17 in /usr/local/lib/python3.6/dist-packages (from requests>=2.16.2->dropbox) (2019.3.9)\n",
            "Installing collected packages: dropbox\n",
            "Successfully installed dropbox-9.3.0\n"
          ],
          "name": "stdout"
        }
      ]
    },
    {
      "cell_type": "code",
      "metadata": {
        "id": "x1RO4oePZU3m",
        "colab_type": "code",
        "outputId": "1df8ce40-2810-49a2-ce70-e4fe884a07fd",
        "colab": {
          "base_uri": "https://localhost:8080/",
          "height": 34
        }
      },
      "source": [
        "################################################################\n",
        "\n",
        "\n",
        "data_url = \"https://dl.dropboxusercontent.com/s/m7ac0fypmcaxi3e/data2.csv\"\n",
        "\n",
        "prate_url = \"https://dl.dropboxusercontent.com/s/0mzxabpws5py869/prate.csv\"\n",
        "\n",
        "shum_url = \"https://dl.dropboxusercontent.com/s/l0ey0keumi68sf3/shum.csv\"\n",
        "\n",
        "\n",
        "tmax_url = \"https://dl.dropboxusercontent.com/s/m5ij9fysi4mxpy8/tmax.csv\"\n",
        "\n",
        "tmin_url = \"https://dl.dropboxusercontent.com/s/y5mjcqbjtv6dfd7/tmin.csv\"\n",
        "\n",
        "tmp_url = \"https://dl.dropboxusercontent.com/s/jlbj1bzzfywd93s/tmp.csv\"\n",
        "\n",
        "uwind_url = \"https://dl.dropboxusercontent.com/s/sfwnqwfqpsdsewr/uwind.csv\"\n",
        "\n",
        "vwind_url = \"https://dl.dropboxusercontent.com/s/74w4ich5ldaajis/vwind.csv\"\n",
        "\n",
        "dswrf_url = \"https://dl.dropboxusercontent.com/s/mzy10j72ctcu51y/dswrf.csv\"\n",
        "\n",
        "evap_url = \"https://dl.dropboxusercontent.com/s/ent7j3bw676slfc/evap.csv\"\n",
        "\n",
        "cloud_url =\"https://dl.dropboxusercontent.com/s/tdi003zjkkst2jf/cloud_cover.csv\"\n",
        "\n",
        "\n",
        "# coding: utf-8\n",
        "\n",
        "# In[1]:\n",
        "\n",
        "\n",
        "# LSTM for international airline passengers problem with regression framing\n",
        "import numpy as np\n",
        "import matplotlib.pyplot as plt\n",
        "from pandas import read_csv, DataFrame\n",
        "import math\n",
        "from keras import backend as K\n",
        "from keras.models import Sequential\n",
        "from keras.preprocessing import sequence\n",
        "from keras.layers import Dense, Dropout, TimeDistributed, Embedding\n",
        "from keras.layers import LSTM\n",
        "from keras.constraints import nonneg\n",
        "from keras import backend\n",
        "from keras.regularizers import L1L2\n",
        "from sklearn.preprocessing import MinMaxScaler\n",
        "from sklearn.metrics import mean_squared_error\n",
        "import itertools as itr\n",
        "#import h5py\n",
        "import tensorflow as tf\n",
        "####################################################################################\n",
        "# In[25]:\n",
        "\n",
        "\n",
        "refine = 0\n",
        "look_back = 4\n",
        "n_seq = 4\n",
        "batch_size = 8\n",
        "epochs = 500\n",
        "timesteps = 4\n",
        "\n",
        "np.random.seed(7)\n",
        "names = {'inf':0, 'shum':1, 'evap':2, 'tmp':3, 'tmin':4, 'tmax':5, 'cloud':6, 'wind':7, 'dswrf':8, 'prate':9}\n",
        "param_list = ['shum', 'evap', 'tmp', 'tmin', 'tmax', 'cloud', 'wind', 'dswrf', 'prate']\n",
        "\n",
        "\n",
        "\n",
        "# convert an array of values into a dataset matrix\n",
        "def create_dataset(dataset, look_back=1, n_seq=1):\n",
        "\tdataX, dataY = [], []\n",
        "\tfor i in range(len(dataset)-look_back-n_seq):\n",
        "\t\ta = dataset[i:(i+look_back), :]# 0 is removed\n",
        "\t\tdataX.append(a)\n",
        "\t\tdataY.append(dataset[(i + look_back):(i + look_back + n_seq), 0])\n",
        "\treturn np.array(dataX), np.array(dataY)\n",
        "\n",
        "# function for reshaping data\n",
        "def weight_func(weight_mat):\n",
        "    weight_mat[:,21] = 0\n",
        "    weight_mat[:,24] = 0\n",
        "    weight_mat[:,25] = 0\n",
        "    weight_mat[:,30] = 0\n",
        "    weight_mat[:,32] = 0\n",
        "    weight_mat[:,33] = 0\n",
        "    weight_mat[:,39] = 0\n",
        "    weight_mat[:,47] = 0\n",
        "    weight_mat[:,55] = 0\n",
        "    return weight_mat\n",
        "\n",
        "def rmse(y_true, y_pred):\n",
        "    return backend.sqrt(backend.mean(backend.square(y_pred - y_true), axis=-1))\n",
        "\n",
        "\n",
        "def reshape_data(dataset):\n",
        "    output = np.zeros((430, 1))\n",
        "    for i in range(430):\n",
        "        matOriginal = np.reshape(dataset[i], (10, 8))\n",
        "        output[i] = matOriginal[0:10,0:8].mean()\n",
        "    return output\n",
        "\n",
        "\n",
        "# load the dataset\n",
        "#input_cols = range(2)\n",
        "def load_data():\n",
        "    dataframe1 = read_csv(data_url, usecols=[3], header=None, engine='python', skipfooter=0)\n",
        "    dataframe2 = read_csv(data_url, usecols=[4], header=None, engine='python', skipfooter=0)\n",
        "    dataset = dataframe1.values\n",
        "\n",
        "    dataframe_shum = read_csv(shum_url, usecols=range(80), header=None, engine='python', skipfooter=0)\n",
        "    dataset_shum = np.reshape(dataframe_shum.mean(axis=1).values, (430,1))\n",
        "    #dataset_shum = reshape_data(weight_func(dataframe_shum.values))\n",
        "\n",
        "\n",
        "    dataframe_tmp = read_csv(tmp_url, usecols=range(80), header=None, engine='python', skipfooter=0)\n",
        "    dataset_tmp = np.reshape(dataframe_tmp.mean(axis=1).values, (430,1))\n",
        "    #dataset_tmp = reshape_data(dataframe_tmp.values)\n",
        "\n",
        "    dataframe_dswrf = read_csv(dswrf_url, usecols=range(80), header=None, engine='python', skipfooter=0)\n",
        "    dataset_dswrf = np.reshape(dataframe_dswrf.mean(axis=1).values, (430,1))\n",
        "    #dataset_dswrf = reshape_data(dataframe_dswrf.values)\n",
        "\n",
        "    dataframe_evap = read_csv(evap_url, usecols=range(80), header=None, engine='python', skipfooter=0)\n",
        "    dataset_evap = np.reshape(dataframe_evap.mean(axis=1).values, (430,1))\n",
        "    #dataset_evap = reshape_data(dataframe_evap.values)\n",
        "\n",
        "    dataframe_prate = read_csv(prate_url, usecols=range(80), header=None, engine='python', skipfooter=0)\n",
        "    dataset_prate = np.reshape(dataframe_prate.mean(axis=1).values, (430,1))\n",
        "    #dataset_prate = reshape_data(weight_func(dataframe_prate.values))\n",
        "\n",
        "    dataframe_cloud = read_csv(cloud_url, usecols=range(80), header=None, engine='python', skipfooter=0)\n",
        "    dataset_cloud = np.reshape(dataframe_cloud.mean(axis=1).values, (430,1))\n",
        "    #dataset_cloud = reshape_data(dataframe_cloud.values)\n",
        "\n",
        "    dataframe_skt = read_csv(tmp_url, usecols=range(80), header=None, engine='python', skipfooter=0)\n",
        "    dataset_skt = np.reshape(dataframe_skt.mean(axis=1).values, (430,1))\n",
        "    #dataset_skt = reshape_data(dataframe_skt.values)\n",
        "\n",
        "    dataframe_tmin = read_csv(tmin_url, usecols=range(80), header=None, engine='python', skipfooter=0)\n",
        "    dataset_tmin = np.reshape(dataframe_tmin.mean(axis=1).values, (430,1))\n",
        "    #dataset_tmin = reshape_data(dataframe_tmin.values)\n",
        "\n",
        "    dataframe_tmax = read_csv(tmax_url, usecols=range(80), header=None, engine='python', skipfooter=0)\n",
        "    dataset_tmax = np.reshape(dataframe_tmax.mean(axis=1).values, (430,1))\n",
        "    #dataset_tmax = reshape_data(dataframe_tmax.values)\n",
        "\n",
        "    dataframe_uwind = read_csv(uwind_url, usecols=range(80), header=None, engine='python', skipfooter=0)\n",
        "    dataset_uwind = np.reshape(dataframe_uwind.mean(axis=1).values, (430,1))\n",
        "    #dataset_uwind = reshape_data(dataframe_uwind.values)\n",
        "\n",
        "    dataframe_vwind = read_csv(vwind_url, usecols=range(80), header=None, engine='python', skipfooter=0)\n",
        "    dataset_vwind = np.reshape(dataframe_vwind.mean(axis=1).values, (430,1))\n",
        "    #dataset_vwind = reshape_data(dataframe_vwind.values)\n",
        "    \n",
        "    dataset_wind = np.sqrt(np.power(dataset_vwind[:],2)+np.power(dataset_uwind[:],2))\n",
        "    \n",
        "    #dataset_time = np.reshape(np.array([x for x in range(430)]) % 53, (430,1))\n",
        "\n",
        "    output_dataset = np.concatenate((dataset, dataset_shum, dataset_evap, dataset_tmp, dataset_tmin, dataset_tmax,\n",
        "                                        dataset_cloud, dataset_wind, dataset_dswrf, dataset_prate), axis=1)\n",
        "    return output_dataset\n",
        "\n",
        "\n",
        "def permute_list(param_list, max_permute):    \n",
        "    output_list = list()\n",
        "    for i in range(max_permute + 1):\n",
        "        a = itr.combinations(param_list, i)\n",
        "        output_list = output_list + [x for x in a]\n",
        "    return [['inf'] + list(x) for x in output_list]\n",
        "\n",
        "# create and fit the LSTM network\n",
        "def build_model(input_size):\n",
        "    regulizers = [L1L2(l1=0.0, l2=0.0)]\n",
        "    model = Sequential()\n",
        "    model.add(LSTM(32, input_shape=(look_back, input_size)))\n",
        "    #model.add(Dropout(0.2))\n",
        "    #model.add(LSTM(10, input_shape=(8, look_back, input_size)))\n",
        "    model.add(Dense(64, activation='relu'))\n",
        "    #model.add(Dropout(0.2))\n",
        "\n",
        "    #model.add(Dense(n_seq))\n",
        "    model.add(Dense(n_seq, W_constraint=nonneg()))\n",
        "    model.compile(loss='mean_squared_error', optimizer='adam')#, metrics=['mse', 'mae', rmse])\n",
        "    return model"
      ],
      "execution_count": 0,
      "outputs": [
        {
          "output_type": "stream",
          "text": [
            "Using TensorFlow backend.\n"
          ],
          "name": "stderr"
        }
      ]
    },
    {
      "cell_type": "code",
      "metadata": {
        "id": "g7skLquuaRcE",
        "colab_type": "code",
        "cellView": "both",
        "outputId": "4b82a2b7-5b22-4420-c1a8-2be66dfead92",
        "colab": {
          "base_uri": "https://localhost:8080/",
          "height": 4457
        }
      },
      "source": [
        "#@title\n",
        "###################################################################################\n",
        "#with tf.device('/GPU:0'):\n",
        "total_dataset = load_data()\n",
        "perm_list = permute_list(param_list, 3)\n",
        "\n",
        "final_result = np.zeros((len(perm_list), 77, n_seq))\n",
        "\n",
        "\n",
        "i_start = 0\n",
        "for param in perm_list:\n",
        "    print('Running for Permutation ... ', i_start)\n",
        "    indx = [names[x] for x in param]\n",
        "    dataset = total_dataset[:,indx]\n",
        "#dataset = np.concatenate((dataset, dataset, dataset_shum, dataset_evap, dataset_tmp, dataset_uwind), axis=1)\n",
        "#dataset = np.concatenate((dataset, dataset_prate), axis=1)\n",
        "\n",
        "    input_size = len(param)\n",
        "    # split into train and test sets\n",
        "    train_size = int(len(dataset) * 0.80)\n",
        "    test_size = len(dataset) - train_size\n",
        "    train, test = dataset[0:train_size,:], dataset[train_size:len(dataset),:]\n",
        "\n",
        "    # normalize the dataset\n",
        "    scaler = MinMaxScaler(feature_range=(0, 1))\n",
        "    train = scaler.fit_transform(train)\n",
        "    test = scaler.transform(test)\n",
        "\n",
        "    trainX, trainY = create_dataset(train, look_back, n_seq)\n",
        "    testX, testY = create_dataset(test, look_back, n_seq)\n",
        "\n",
        "\n",
        "    if refine == 1:\n",
        "        for j in range(input_size - 1):\n",
        "            for i in range(len(trainX)):\n",
        "                trainX[i,:][0:2,j+1] = trainX[i,:][0:2,j+1].mean()\n",
        "                trainX[i,:][2:4,j+1] = trainX[i,:][2:4,j+1].mean()\n",
        "                #trainX[i,:][3,j+1] = trainX[i,:][3,j+1] - trainX[i,:][2,j+1]\n",
        "\n",
        "            for i in range(len(testX)):\n",
        "                testX[i,:][0:2,j+1] = testX[i][0:2,j+1].mean()\n",
        "                testX[i,:][2:4,j+1] = testX[i][2:4,j+1].mean()\n",
        "                #testX[i,:][3,j+1] = testX[i,:][3,j+1] - testX[i,:][2,j+1]\n",
        "\n",
        "    # reshape input to be [samples, time steps, features]\n",
        "    trainX = np.reshape(trainX, (trainX.shape[0], look_back, input_size))\n",
        "    testX = np.reshape(testX, (testX.shape[0], look_back, input_size))\n",
        "\n",
        "    weights_cat = np.ones(trainX.shape[0])\n",
        "    l = 0\n",
        "    for sample in trainX:\n",
        "        if sample[:,0].mean() < .01:\n",
        "            weights_cat[l] = 1.5\n",
        "        l = l + 1;\n",
        "\n",
        "    model = build_model(input_size)\n",
        "\n",
        "\n",
        "    history = model.fit(trainX, trainY, shuffle=False, validation_split=0.20, batch_size=4, epochs=100, verbose=0)\n",
        "    #show_model(history)\n",
        "\n",
        "    # invert predictions\n",
        "    output = model.predict(testX)\n",
        "    model = None\n",
        "    output_extended = np.zeros((output.shape[0],input_size, n_seq))\n",
        "\n",
        "    for seq in range(n_seq):\n",
        "        output_extended[:,0, seq] = output[:, seq]\n",
        "        output_extended[:,0, seq] = scaler.inverse_transform(output_extended[:,:,seq])[:,0]\n",
        "\n",
        "    for seq1 in range(n_seq):\n",
        "        X1 = output_extended[0:len(testY)-1,0,seq1]\n",
        "        final_result[i_start,:,seq1] = X1\n",
        "    i_start = i_start + 1"
      ],
      "execution_count": 0,
      "outputs": [
        {
          "output_type": "stream",
          "text": [
            "Running for Permutation ...  0\n"
          ],
          "name": "stdout"
        },
        {
          "output_type": "stream",
          "text": [
            "/usr/local/lib/python3.6/dist-packages/ipykernel_launcher.py:180: UserWarning: Update your `Dense` call to the Keras 2 API: `Dense(4, kernel_constraint=<keras.con...)`\n"
          ],
          "name": "stderr"
        },
        {
          "output_type": "stream",
          "text": [
            "Running for Permutation ...  1\n"
          ],
          "name": "stdout"
        },
        {
          "output_type": "stream",
          "text": [
            "/usr/local/lib/python3.6/dist-packages/ipykernel_launcher.py:180: UserWarning: Update your `Dense` call to the Keras 2 API: `Dense(4, kernel_constraint=<keras.con...)`\n"
          ],
          "name": "stderr"
        },
        {
          "output_type": "stream",
          "text": [
            "Running for Permutation ...  2\n"
          ],
          "name": "stdout"
        },
        {
          "output_type": "stream",
          "text": [
            "/usr/local/lib/python3.6/dist-packages/ipykernel_launcher.py:180: UserWarning: Update your `Dense` call to the Keras 2 API: `Dense(4, kernel_constraint=<keras.con...)`\n"
          ],
          "name": "stderr"
        },
        {
          "output_type": "stream",
          "text": [
            "Running for Permutation ...  3\n"
          ],
          "name": "stdout"
        },
        {
          "output_type": "stream",
          "text": [
            "/usr/local/lib/python3.6/dist-packages/ipykernel_launcher.py:180: UserWarning: Update your `Dense` call to the Keras 2 API: `Dense(4, kernel_constraint=<keras.con...)`\n"
          ],
          "name": "stderr"
        },
        {
          "output_type": "stream",
          "text": [
            "Running for Permutation ...  4\n"
          ],
          "name": "stdout"
        },
        {
          "output_type": "stream",
          "text": [
            "/usr/local/lib/python3.6/dist-packages/ipykernel_launcher.py:180: UserWarning: Update your `Dense` call to the Keras 2 API: `Dense(4, kernel_constraint=<keras.con...)`\n"
          ],
          "name": "stderr"
        },
        {
          "output_type": "stream",
          "text": [
            "Running for Permutation ...  5\n"
          ],
          "name": "stdout"
        },
        {
          "output_type": "stream",
          "text": [
            "/usr/local/lib/python3.6/dist-packages/ipykernel_launcher.py:180: UserWarning: Update your `Dense` call to the Keras 2 API: `Dense(4, kernel_constraint=<keras.con...)`\n"
          ],
          "name": "stderr"
        },
        {
          "output_type": "stream",
          "text": [
            "Running for Permutation ...  6\n"
          ],
          "name": "stdout"
        },
        {
          "output_type": "stream",
          "text": [
            "/usr/local/lib/python3.6/dist-packages/ipykernel_launcher.py:180: UserWarning: Update your `Dense` call to the Keras 2 API: `Dense(4, kernel_constraint=<keras.con...)`\n"
          ],
          "name": "stderr"
        },
        {
          "output_type": "stream",
          "text": [
            "Running for Permutation ...  7\n"
          ],
          "name": "stdout"
        },
        {
          "output_type": "stream",
          "text": [
            "/usr/local/lib/python3.6/dist-packages/ipykernel_launcher.py:180: UserWarning: Update your `Dense` call to the Keras 2 API: `Dense(4, kernel_constraint=<keras.con...)`\n"
          ],
          "name": "stderr"
        },
        {
          "output_type": "stream",
          "text": [
            "Running for Permutation ...  8\n"
          ],
          "name": "stdout"
        },
        {
          "output_type": "stream",
          "text": [
            "/usr/local/lib/python3.6/dist-packages/ipykernel_launcher.py:180: UserWarning: Update your `Dense` call to the Keras 2 API: `Dense(4, kernel_constraint=<keras.con...)`\n"
          ],
          "name": "stderr"
        },
        {
          "output_type": "stream",
          "text": [
            "Running for Permutation ...  9\n"
          ],
          "name": "stdout"
        },
        {
          "output_type": "stream",
          "text": [
            "/usr/local/lib/python3.6/dist-packages/ipykernel_launcher.py:180: UserWarning: Update your `Dense` call to the Keras 2 API: `Dense(4, kernel_constraint=<keras.con...)`\n"
          ],
          "name": "stderr"
        },
        {
          "output_type": "stream",
          "text": [
            "Running for Permutation ...  10\n"
          ],
          "name": "stdout"
        },
        {
          "output_type": "stream",
          "text": [
            "/usr/local/lib/python3.6/dist-packages/ipykernel_launcher.py:180: UserWarning: Update your `Dense` call to the Keras 2 API: `Dense(4, kernel_constraint=<keras.con...)`\n"
          ],
          "name": "stderr"
        },
        {
          "output_type": "stream",
          "text": [
            "Running for Permutation ...  11\n"
          ],
          "name": "stdout"
        },
        {
          "output_type": "stream",
          "text": [
            "/usr/local/lib/python3.6/dist-packages/ipykernel_launcher.py:180: UserWarning: Update your `Dense` call to the Keras 2 API: `Dense(4, kernel_constraint=<keras.con...)`\n"
          ],
          "name": "stderr"
        },
        {
          "output_type": "stream",
          "text": [
            "Running for Permutation ...  12\n"
          ],
          "name": "stdout"
        },
        {
          "output_type": "stream",
          "text": [
            "/usr/local/lib/python3.6/dist-packages/ipykernel_launcher.py:180: UserWarning: Update your `Dense` call to the Keras 2 API: `Dense(4, kernel_constraint=<keras.con...)`\n"
          ],
          "name": "stderr"
        },
        {
          "output_type": "stream",
          "text": [
            "Running for Permutation ...  13\n"
          ],
          "name": "stdout"
        },
        {
          "output_type": "stream",
          "text": [
            "/usr/local/lib/python3.6/dist-packages/ipykernel_launcher.py:180: UserWarning: Update your `Dense` call to the Keras 2 API: `Dense(4, kernel_constraint=<keras.con...)`\n"
          ],
          "name": "stderr"
        },
        {
          "output_type": "stream",
          "text": [
            "Running for Permutation ...  14\n"
          ],
          "name": "stdout"
        },
        {
          "output_type": "stream",
          "text": [
            "/usr/local/lib/python3.6/dist-packages/ipykernel_launcher.py:180: UserWarning: Update your `Dense` call to the Keras 2 API: `Dense(4, kernel_constraint=<keras.con...)`\n"
          ],
          "name": "stderr"
        },
        {
          "output_type": "stream",
          "text": [
            "Running for Permutation ...  15\n"
          ],
          "name": "stdout"
        },
        {
          "output_type": "stream",
          "text": [
            "/usr/local/lib/python3.6/dist-packages/ipykernel_launcher.py:180: UserWarning: Update your `Dense` call to the Keras 2 API: `Dense(4, kernel_constraint=<keras.con...)`\n"
          ],
          "name": "stderr"
        },
        {
          "output_type": "stream",
          "text": [
            "Running for Permutation ...  16\n"
          ],
          "name": "stdout"
        },
        {
          "output_type": "stream",
          "text": [
            "/usr/local/lib/python3.6/dist-packages/ipykernel_launcher.py:180: UserWarning: Update your `Dense` call to the Keras 2 API: `Dense(4, kernel_constraint=<keras.con...)`\n"
          ],
          "name": "stderr"
        },
        {
          "output_type": "stream",
          "text": [
            "Running for Permutation ...  17\n"
          ],
          "name": "stdout"
        },
        {
          "output_type": "stream",
          "text": [
            "/usr/local/lib/python3.6/dist-packages/ipykernel_launcher.py:180: UserWarning: Update your `Dense` call to the Keras 2 API: `Dense(4, kernel_constraint=<keras.con...)`\n"
          ],
          "name": "stderr"
        },
        {
          "output_type": "stream",
          "text": [
            "Running for Permutation ...  18\n"
          ],
          "name": "stdout"
        },
        {
          "output_type": "stream",
          "text": [
            "/usr/local/lib/python3.6/dist-packages/ipykernel_launcher.py:180: UserWarning: Update your `Dense` call to the Keras 2 API: `Dense(4, kernel_constraint=<keras.con...)`\n"
          ],
          "name": "stderr"
        },
        {
          "output_type": "stream",
          "text": [
            "Running for Permutation ...  19\n"
          ],
          "name": "stdout"
        },
        {
          "output_type": "stream",
          "text": [
            "/usr/local/lib/python3.6/dist-packages/ipykernel_launcher.py:180: UserWarning: Update your `Dense` call to the Keras 2 API: `Dense(4, kernel_constraint=<keras.con...)`\n"
          ],
          "name": "stderr"
        },
        {
          "output_type": "stream",
          "text": [
            "Running for Permutation ...  20\n"
          ],
          "name": "stdout"
        },
        {
          "output_type": "stream",
          "text": [
            "/usr/local/lib/python3.6/dist-packages/ipykernel_launcher.py:180: UserWarning: Update your `Dense` call to the Keras 2 API: `Dense(4, kernel_constraint=<keras.con...)`\n"
          ],
          "name": "stderr"
        },
        {
          "output_type": "stream",
          "text": [
            "Running for Permutation ...  21\n"
          ],
          "name": "stdout"
        },
        {
          "output_type": "stream",
          "text": [
            "/usr/local/lib/python3.6/dist-packages/ipykernel_launcher.py:180: UserWarning: Update your `Dense` call to the Keras 2 API: `Dense(4, kernel_constraint=<keras.con...)`\n"
          ],
          "name": "stderr"
        },
        {
          "output_type": "stream",
          "text": [
            "Running for Permutation ...  22\n"
          ],
          "name": "stdout"
        },
        {
          "output_type": "stream",
          "text": [
            "/usr/local/lib/python3.6/dist-packages/ipykernel_launcher.py:180: UserWarning: Update your `Dense` call to the Keras 2 API: `Dense(4, kernel_constraint=<keras.con...)`\n"
          ],
          "name": "stderr"
        },
        {
          "output_type": "stream",
          "text": [
            "Running for Permutation ...  23\n"
          ],
          "name": "stdout"
        },
        {
          "output_type": "stream",
          "text": [
            "/usr/local/lib/python3.6/dist-packages/ipykernel_launcher.py:180: UserWarning: Update your `Dense` call to the Keras 2 API: `Dense(4, kernel_constraint=<keras.con...)`\n"
          ],
          "name": "stderr"
        },
        {
          "output_type": "stream",
          "text": [
            "Running for Permutation ...  24\n"
          ],
          "name": "stdout"
        },
        {
          "output_type": "stream",
          "text": [
            "/usr/local/lib/python3.6/dist-packages/ipykernel_launcher.py:180: UserWarning: Update your `Dense` call to the Keras 2 API: `Dense(4, kernel_constraint=<keras.con...)`\n"
          ],
          "name": "stderr"
        },
        {
          "output_type": "stream",
          "text": [
            "Running for Permutation ...  25\n"
          ],
          "name": "stdout"
        },
        {
          "output_type": "stream",
          "text": [
            "/usr/local/lib/python3.6/dist-packages/ipykernel_launcher.py:180: UserWarning: Update your `Dense` call to the Keras 2 API: `Dense(4, kernel_constraint=<keras.con...)`\n"
          ],
          "name": "stderr"
        },
        {
          "output_type": "stream",
          "text": [
            "Running for Permutation ...  26\n"
          ],
          "name": "stdout"
        },
        {
          "output_type": "stream",
          "text": [
            "/usr/local/lib/python3.6/dist-packages/ipykernel_launcher.py:180: UserWarning: Update your `Dense` call to the Keras 2 API: `Dense(4, kernel_constraint=<keras.con...)`\n"
          ],
          "name": "stderr"
        },
        {
          "output_type": "stream",
          "text": [
            "Running for Permutation ...  27\n"
          ],
          "name": "stdout"
        },
        {
          "output_type": "stream",
          "text": [
            "/usr/local/lib/python3.6/dist-packages/ipykernel_launcher.py:180: UserWarning: Update your `Dense` call to the Keras 2 API: `Dense(4, kernel_constraint=<keras.con...)`\n"
          ],
          "name": "stderr"
        },
        {
          "output_type": "stream",
          "text": [
            "Running for Permutation ...  28\n"
          ],
          "name": "stdout"
        },
        {
          "output_type": "stream",
          "text": [
            "/usr/local/lib/python3.6/dist-packages/ipykernel_launcher.py:180: UserWarning: Update your `Dense` call to the Keras 2 API: `Dense(4, kernel_constraint=<keras.con...)`\n"
          ],
          "name": "stderr"
        },
        {
          "output_type": "stream",
          "text": [
            "Running for Permutation ...  29\n"
          ],
          "name": "stdout"
        },
        {
          "output_type": "stream",
          "text": [
            "/usr/local/lib/python3.6/dist-packages/ipykernel_launcher.py:180: UserWarning: Update your `Dense` call to the Keras 2 API: `Dense(4, kernel_constraint=<keras.con...)`\n"
          ],
          "name": "stderr"
        },
        {
          "output_type": "stream",
          "text": [
            "Running for Permutation ...  30\n"
          ],
          "name": "stdout"
        },
        {
          "output_type": "stream",
          "text": [
            "/usr/local/lib/python3.6/dist-packages/ipykernel_launcher.py:180: UserWarning: Update your `Dense` call to the Keras 2 API: `Dense(4, kernel_constraint=<keras.con...)`\n"
          ],
          "name": "stderr"
        },
        {
          "output_type": "stream",
          "text": [
            "Running for Permutation ...  31\n"
          ],
          "name": "stdout"
        },
        {
          "output_type": "stream",
          "text": [
            "/usr/local/lib/python3.6/dist-packages/ipykernel_launcher.py:180: UserWarning: Update your `Dense` call to the Keras 2 API: `Dense(4, kernel_constraint=<keras.con...)`\n"
          ],
          "name": "stderr"
        },
        {
          "output_type": "stream",
          "text": [
            "Running for Permutation ...  32\n"
          ],
          "name": "stdout"
        },
        {
          "output_type": "stream",
          "text": [
            "/usr/local/lib/python3.6/dist-packages/ipykernel_launcher.py:180: UserWarning: Update your `Dense` call to the Keras 2 API: `Dense(4, kernel_constraint=<keras.con...)`\n"
          ],
          "name": "stderr"
        },
        {
          "output_type": "stream",
          "text": [
            "Running for Permutation ...  33\n"
          ],
          "name": "stdout"
        },
        {
          "output_type": "stream",
          "text": [
            "/usr/local/lib/python3.6/dist-packages/ipykernel_launcher.py:180: UserWarning: Update your `Dense` call to the Keras 2 API: `Dense(4, kernel_constraint=<keras.con...)`\n"
          ],
          "name": "stderr"
        },
        {
          "output_type": "stream",
          "text": [
            "Running for Permutation ...  34\n"
          ],
          "name": "stdout"
        },
        {
          "output_type": "stream",
          "text": [
            "/usr/local/lib/python3.6/dist-packages/ipykernel_launcher.py:180: UserWarning: Update your `Dense` call to the Keras 2 API: `Dense(4, kernel_constraint=<keras.con...)`\n"
          ],
          "name": "stderr"
        },
        {
          "output_type": "stream",
          "text": [
            "Running for Permutation ...  35\n"
          ],
          "name": "stdout"
        },
        {
          "output_type": "stream",
          "text": [
            "/usr/local/lib/python3.6/dist-packages/ipykernel_launcher.py:180: UserWarning: Update your `Dense` call to the Keras 2 API: `Dense(4, kernel_constraint=<keras.con...)`\n"
          ],
          "name": "stderr"
        },
        {
          "output_type": "stream",
          "text": [
            "Running for Permutation ...  36\n"
          ],
          "name": "stdout"
        },
        {
          "output_type": "stream",
          "text": [
            "/usr/local/lib/python3.6/dist-packages/ipykernel_launcher.py:180: UserWarning: Update your `Dense` call to the Keras 2 API: `Dense(4, kernel_constraint=<keras.con...)`\n"
          ],
          "name": "stderr"
        },
        {
          "output_type": "stream",
          "text": [
            "Running for Permutation ...  37\n"
          ],
          "name": "stdout"
        },
        {
          "output_type": "stream",
          "text": [
            "/usr/local/lib/python3.6/dist-packages/ipykernel_launcher.py:180: UserWarning: Update your `Dense` call to the Keras 2 API: `Dense(4, kernel_constraint=<keras.con...)`\n"
          ],
          "name": "stderr"
        },
        {
          "output_type": "stream",
          "text": [
            "Running for Permutation ...  38\n"
          ],
          "name": "stdout"
        },
        {
          "output_type": "stream",
          "text": [
            "/usr/local/lib/python3.6/dist-packages/ipykernel_launcher.py:180: UserWarning: Update your `Dense` call to the Keras 2 API: `Dense(4, kernel_constraint=<keras.con...)`\n"
          ],
          "name": "stderr"
        },
        {
          "output_type": "stream",
          "text": [
            "Running for Permutation ...  39\n"
          ],
          "name": "stdout"
        },
        {
          "output_type": "stream",
          "text": [
            "/usr/local/lib/python3.6/dist-packages/ipykernel_launcher.py:180: UserWarning: Update your `Dense` call to the Keras 2 API: `Dense(4, kernel_constraint=<keras.con...)`\n"
          ],
          "name": "stderr"
        },
        {
          "output_type": "stream",
          "text": [
            "Running for Permutation ...  40\n"
          ],
          "name": "stdout"
        },
        {
          "output_type": "stream",
          "text": [
            "/usr/local/lib/python3.6/dist-packages/ipykernel_launcher.py:180: UserWarning: Update your `Dense` call to the Keras 2 API: `Dense(4, kernel_constraint=<keras.con...)`\n"
          ],
          "name": "stderr"
        },
        {
          "output_type": "stream",
          "text": [
            "Running for Permutation ...  41\n"
          ],
          "name": "stdout"
        },
        {
          "output_type": "stream",
          "text": [
            "/usr/local/lib/python3.6/dist-packages/ipykernel_launcher.py:180: UserWarning: Update your `Dense` call to the Keras 2 API: `Dense(4, kernel_constraint=<keras.con...)`\n"
          ],
          "name": "stderr"
        },
        {
          "output_type": "stream",
          "text": [
            "Running for Permutation ...  42\n"
          ],
          "name": "stdout"
        },
        {
          "output_type": "stream",
          "text": [
            "/usr/local/lib/python3.6/dist-packages/ipykernel_launcher.py:180: UserWarning: Update your `Dense` call to the Keras 2 API: `Dense(4, kernel_constraint=<keras.con...)`\n"
          ],
          "name": "stderr"
        },
        {
          "output_type": "stream",
          "text": [
            "Running for Permutation ...  43\n"
          ],
          "name": "stdout"
        },
        {
          "output_type": "stream",
          "text": [
            "/usr/local/lib/python3.6/dist-packages/ipykernel_launcher.py:180: UserWarning: Update your `Dense` call to the Keras 2 API: `Dense(4, kernel_constraint=<keras.con...)`\n"
          ],
          "name": "stderr"
        },
        {
          "output_type": "stream",
          "text": [
            "Running for Permutation ...  44\n"
          ],
          "name": "stdout"
        },
        {
          "output_type": "stream",
          "text": [
            "/usr/local/lib/python3.6/dist-packages/ipykernel_launcher.py:180: UserWarning: Update your `Dense` call to the Keras 2 API: `Dense(4, kernel_constraint=<keras.con...)`\n"
          ],
          "name": "stderr"
        },
        {
          "output_type": "stream",
          "text": [
            "Running for Permutation ...  45\n"
          ],
          "name": "stdout"
        },
        {
          "output_type": "stream",
          "text": [
            "/usr/local/lib/python3.6/dist-packages/ipykernel_launcher.py:180: UserWarning: Update your `Dense` call to the Keras 2 API: `Dense(4, kernel_constraint=<keras.con...)`\n"
          ],
          "name": "stderr"
        },
        {
          "output_type": "stream",
          "text": [
            "Running for Permutation ...  46\n"
          ],
          "name": "stdout"
        },
        {
          "output_type": "stream",
          "text": [
            "/usr/local/lib/python3.6/dist-packages/ipykernel_launcher.py:180: UserWarning: Update your `Dense` call to the Keras 2 API: `Dense(4, kernel_constraint=<keras.con...)`\n"
          ],
          "name": "stderr"
        },
        {
          "output_type": "stream",
          "text": [
            "Running for Permutation ...  47\n"
          ],
          "name": "stdout"
        },
        {
          "output_type": "stream",
          "text": [
            "/usr/local/lib/python3.6/dist-packages/ipykernel_launcher.py:180: UserWarning: Update your `Dense` call to the Keras 2 API: `Dense(4, kernel_constraint=<keras.con...)`\n"
          ],
          "name": "stderr"
        },
        {
          "output_type": "stream",
          "text": [
            "Running for Permutation ...  48\n"
          ],
          "name": "stdout"
        },
        {
          "output_type": "stream",
          "text": [
            "/usr/local/lib/python3.6/dist-packages/ipykernel_launcher.py:180: UserWarning: Update your `Dense` call to the Keras 2 API: `Dense(4, kernel_constraint=<keras.con...)`\n"
          ],
          "name": "stderr"
        },
        {
          "output_type": "stream",
          "text": [
            "Running for Permutation ...  49\n"
          ],
          "name": "stdout"
        },
        {
          "output_type": "stream",
          "text": [
            "/usr/local/lib/python3.6/dist-packages/ipykernel_launcher.py:180: UserWarning: Update your `Dense` call to the Keras 2 API: `Dense(4, kernel_constraint=<keras.con...)`\n"
          ],
          "name": "stderr"
        },
        {
          "output_type": "stream",
          "text": [
            "Running for Permutation ...  50\n"
          ],
          "name": "stdout"
        },
        {
          "output_type": "stream",
          "text": [
            "/usr/local/lib/python3.6/dist-packages/ipykernel_launcher.py:180: UserWarning: Update your `Dense` call to the Keras 2 API: `Dense(4, kernel_constraint=<keras.con...)`\n"
          ],
          "name": "stderr"
        },
        {
          "output_type": "stream",
          "text": [
            "Running for Permutation ...  51\n"
          ],
          "name": "stdout"
        },
        {
          "output_type": "stream",
          "text": [
            "/usr/local/lib/python3.6/dist-packages/ipykernel_launcher.py:180: UserWarning: Update your `Dense` call to the Keras 2 API: `Dense(4, kernel_constraint=<keras.con...)`\n"
          ],
          "name": "stderr"
        },
        {
          "output_type": "stream",
          "text": [
            "Running for Permutation ...  52\n"
          ],
          "name": "stdout"
        },
        {
          "output_type": "stream",
          "text": [
            "/usr/local/lib/python3.6/dist-packages/ipykernel_launcher.py:180: UserWarning: Update your `Dense` call to the Keras 2 API: `Dense(4, kernel_constraint=<keras.con...)`\n"
          ],
          "name": "stderr"
        },
        {
          "output_type": "stream",
          "text": [
            "Running for Permutation ...  53\n"
          ],
          "name": "stdout"
        },
        {
          "output_type": "stream",
          "text": [
            "/usr/local/lib/python3.6/dist-packages/ipykernel_launcher.py:180: UserWarning: Update your `Dense` call to the Keras 2 API: `Dense(4, kernel_constraint=<keras.con...)`\n"
          ],
          "name": "stderr"
        },
        {
          "output_type": "stream",
          "text": [
            "Running for Permutation ...  54\n"
          ],
          "name": "stdout"
        },
        {
          "output_type": "stream",
          "text": [
            "/usr/local/lib/python3.6/dist-packages/ipykernel_launcher.py:180: UserWarning: Update your `Dense` call to the Keras 2 API: `Dense(4, kernel_constraint=<keras.con...)`\n"
          ],
          "name": "stderr"
        },
        {
          "output_type": "stream",
          "text": [
            "Running for Permutation ...  55\n"
          ],
          "name": "stdout"
        },
        {
          "output_type": "stream",
          "text": [
            "/usr/local/lib/python3.6/dist-packages/ipykernel_launcher.py:180: UserWarning: Update your `Dense` call to the Keras 2 API: `Dense(4, kernel_constraint=<keras.con...)`\n"
          ],
          "name": "stderr"
        },
        {
          "output_type": "stream",
          "text": [
            "Running for Permutation ...  56\n"
          ],
          "name": "stdout"
        },
        {
          "output_type": "stream",
          "text": [
            "/usr/local/lib/python3.6/dist-packages/ipykernel_launcher.py:180: UserWarning: Update your `Dense` call to the Keras 2 API: `Dense(4, kernel_constraint=<keras.con...)`\n"
          ],
          "name": "stderr"
        },
        {
          "output_type": "stream",
          "text": [
            "Running for Permutation ...  57\n"
          ],
          "name": "stdout"
        },
        {
          "output_type": "stream",
          "text": [
            "/usr/local/lib/python3.6/dist-packages/ipykernel_launcher.py:180: UserWarning: Update your `Dense` call to the Keras 2 API: `Dense(4, kernel_constraint=<keras.con...)`\n"
          ],
          "name": "stderr"
        },
        {
          "output_type": "stream",
          "text": [
            "Running for Permutation ...  58\n"
          ],
          "name": "stdout"
        },
        {
          "output_type": "stream",
          "text": [
            "/usr/local/lib/python3.6/dist-packages/ipykernel_launcher.py:180: UserWarning: Update your `Dense` call to the Keras 2 API: `Dense(4, kernel_constraint=<keras.con...)`\n"
          ],
          "name": "stderr"
        },
        {
          "output_type": "stream",
          "text": [
            "Running for Permutation ...  59\n"
          ],
          "name": "stdout"
        },
        {
          "output_type": "stream",
          "text": [
            "/usr/local/lib/python3.6/dist-packages/ipykernel_launcher.py:180: UserWarning: Update your `Dense` call to the Keras 2 API: `Dense(4, kernel_constraint=<keras.con...)`\n"
          ],
          "name": "stderr"
        },
        {
          "output_type": "stream",
          "text": [
            "Running for Permutation ...  60\n"
          ],
          "name": "stdout"
        },
        {
          "output_type": "stream",
          "text": [
            "/usr/local/lib/python3.6/dist-packages/ipykernel_launcher.py:180: UserWarning: Update your `Dense` call to the Keras 2 API: `Dense(4, kernel_constraint=<keras.con...)`\n"
          ],
          "name": "stderr"
        },
        {
          "output_type": "stream",
          "text": [
            "Running for Permutation ...  61\n"
          ],
          "name": "stdout"
        },
        {
          "output_type": "stream",
          "text": [
            "/usr/local/lib/python3.6/dist-packages/ipykernel_launcher.py:180: UserWarning: Update your `Dense` call to the Keras 2 API: `Dense(4, kernel_constraint=<keras.con...)`\n"
          ],
          "name": "stderr"
        },
        {
          "output_type": "stream",
          "text": [
            "Running for Permutation ...  62\n"
          ],
          "name": "stdout"
        },
        {
          "output_type": "stream",
          "text": [
            "/usr/local/lib/python3.6/dist-packages/ipykernel_launcher.py:180: UserWarning: Update your `Dense` call to the Keras 2 API: `Dense(4, kernel_constraint=<keras.con...)`\n"
          ],
          "name": "stderr"
        },
        {
          "output_type": "stream",
          "text": [
            "Running for Permutation ...  63\n"
          ],
          "name": "stdout"
        },
        {
          "output_type": "stream",
          "text": [
            "/usr/local/lib/python3.6/dist-packages/ipykernel_launcher.py:180: UserWarning: Update your `Dense` call to the Keras 2 API: `Dense(4, kernel_constraint=<keras.con...)`\n"
          ],
          "name": "stderr"
        },
        {
          "output_type": "stream",
          "text": [
            "Running for Permutation ...  64\n"
          ],
          "name": "stdout"
        },
        {
          "output_type": "stream",
          "text": [
            "/usr/local/lib/python3.6/dist-packages/ipykernel_launcher.py:180: UserWarning: Update your `Dense` call to the Keras 2 API: `Dense(4, kernel_constraint=<keras.con...)`\n"
          ],
          "name": "stderr"
        },
        {
          "output_type": "stream",
          "text": [
            "Running for Permutation ...  65\n"
          ],
          "name": "stdout"
        },
        {
          "output_type": "stream",
          "text": [
            "/usr/local/lib/python3.6/dist-packages/ipykernel_launcher.py:180: UserWarning: Update your `Dense` call to the Keras 2 API: `Dense(4, kernel_constraint=<keras.con...)`\n"
          ],
          "name": "stderr"
        },
        {
          "output_type": "stream",
          "text": [
            "Running for Permutation ...  66\n"
          ],
          "name": "stdout"
        },
        {
          "output_type": "stream",
          "text": [
            "/usr/local/lib/python3.6/dist-packages/ipykernel_launcher.py:180: UserWarning: Update your `Dense` call to the Keras 2 API: `Dense(4, kernel_constraint=<keras.con...)`\n"
          ],
          "name": "stderr"
        },
        {
          "output_type": "stream",
          "text": [
            "Running for Permutation ...  67\n"
          ],
          "name": "stdout"
        },
        {
          "output_type": "stream",
          "text": [
            "/usr/local/lib/python3.6/dist-packages/ipykernel_launcher.py:180: UserWarning: Update your `Dense` call to the Keras 2 API: `Dense(4, kernel_constraint=<keras.con...)`\n"
          ],
          "name": "stderr"
        },
        {
          "output_type": "stream",
          "text": [
            "Running for Permutation ...  68\n"
          ],
          "name": "stdout"
        },
        {
          "output_type": "stream",
          "text": [
            "/usr/local/lib/python3.6/dist-packages/ipykernel_launcher.py:180: UserWarning: Update your `Dense` call to the Keras 2 API: `Dense(4, kernel_constraint=<keras.con...)`\n"
          ],
          "name": "stderr"
        },
        {
          "output_type": "stream",
          "text": [
            "Running for Permutation ...  69\n"
          ],
          "name": "stdout"
        },
        {
          "output_type": "stream",
          "text": [
            "/usr/local/lib/python3.6/dist-packages/ipykernel_launcher.py:180: UserWarning: Update your `Dense` call to the Keras 2 API: `Dense(4, kernel_constraint=<keras.con...)`\n"
          ],
          "name": "stderr"
        },
        {
          "output_type": "stream",
          "text": [
            "Running for Permutation ...  70\n"
          ],
          "name": "stdout"
        },
        {
          "output_type": "stream",
          "text": [
            "/usr/local/lib/python3.6/dist-packages/ipykernel_launcher.py:180: UserWarning: Update your `Dense` call to the Keras 2 API: `Dense(4, kernel_constraint=<keras.con...)`\n"
          ],
          "name": "stderr"
        },
        {
          "output_type": "stream",
          "text": [
            "Running for Permutation ...  71\n"
          ],
          "name": "stdout"
        },
        {
          "output_type": "stream",
          "text": [
            "/usr/local/lib/python3.6/dist-packages/ipykernel_launcher.py:180: UserWarning: Update your `Dense` call to the Keras 2 API: `Dense(4, kernel_constraint=<keras.con...)`\n"
          ],
          "name": "stderr"
        },
        {
          "output_type": "stream",
          "text": [
            "Running for Permutation ...  72\n"
          ],
          "name": "stdout"
        },
        {
          "output_type": "stream",
          "text": [
            "/usr/local/lib/python3.6/dist-packages/ipykernel_launcher.py:180: UserWarning: Update your `Dense` call to the Keras 2 API: `Dense(4, kernel_constraint=<keras.con...)`\n"
          ],
          "name": "stderr"
        },
        {
          "output_type": "stream",
          "text": [
            "Running for Permutation ...  73\n"
          ],
          "name": "stdout"
        },
        {
          "output_type": "stream",
          "text": [
            "/usr/local/lib/python3.6/dist-packages/ipykernel_launcher.py:180: UserWarning: Update your `Dense` call to the Keras 2 API: `Dense(4, kernel_constraint=<keras.con...)`\n"
          ],
          "name": "stderr"
        },
        {
          "output_type": "stream",
          "text": [
            "Running for Permutation ...  74\n"
          ],
          "name": "stdout"
        },
        {
          "output_type": "stream",
          "text": [
            "/usr/local/lib/python3.6/dist-packages/ipykernel_launcher.py:180: UserWarning: Update your `Dense` call to the Keras 2 API: `Dense(4, kernel_constraint=<keras.con...)`\n"
          ],
          "name": "stderr"
        },
        {
          "output_type": "stream",
          "text": [
            "Running for Permutation ...  75\n"
          ],
          "name": "stdout"
        },
        {
          "output_type": "stream",
          "text": [
            "/usr/local/lib/python3.6/dist-packages/ipykernel_launcher.py:180: UserWarning: Update your `Dense` call to the Keras 2 API: `Dense(4, kernel_constraint=<keras.con...)`\n"
          ],
          "name": "stderr"
        },
        {
          "output_type": "stream",
          "text": [
            "Running for Permutation ...  76\n"
          ],
          "name": "stdout"
        },
        {
          "output_type": "stream",
          "text": [
            "/usr/local/lib/python3.6/dist-packages/ipykernel_launcher.py:180: UserWarning: Update your `Dense` call to the Keras 2 API: `Dense(4, kernel_constraint=<keras.con...)`\n"
          ],
          "name": "stderr"
        },
        {
          "output_type": "stream",
          "text": [
            "Running for Permutation ...  77\n"
          ],
          "name": "stdout"
        },
        {
          "output_type": "stream",
          "text": [
            "/usr/local/lib/python3.6/dist-packages/ipykernel_launcher.py:180: UserWarning: Update your `Dense` call to the Keras 2 API: `Dense(4, kernel_constraint=<keras.con...)`\n"
          ],
          "name": "stderr"
        },
        {
          "output_type": "stream",
          "text": [
            "Running for Permutation ...  78\n"
          ],
          "name": "stdout"
        },
        {
          "output_type": "stream",
          "text": [
            "/usr/local/lib/python3.6/dist-packages/ipykernel_launcher.py:180: UserWarning: Update your `Dense` call to the Keras 2 API: `Dense(4, kernel_constraint=<keras.con...)`\n"
          ],
          "name": "stderr"
        },
        {
          "output_type": "stream",
          "text": [
            "Running for Permutation ...  79\n"
          ],
          "name": "stdout"
        },
        {
          "output_type": "stream",
          "text": [
            "/usr/local/lib/python3.6/dist-packages/ipykernel_launcher.py:180: UserWarning: Update your `Dense` call to the Keras 2 API: `Dense(4, kernel_constraint=<keras.con...)`\n"
          ],
          "name": "stderr"
        },
        {
          "output_type": "stream",
          "text": [
            "Running for Permutation ...  80\n"
          ],
          "name": "stdout"
        },
        {
          "output_type": "stream",
          "text": [
            "/usr/local/lib/python3.6/dist-packages/ipykernel_launcher.py:180: UserWarning: Update your `Dense` call to the Keras 2 API: `Dense(4, kernel_constraint=<keras.con...)`\n"
          ],
          "name": "stderr"
        },
        {
          "output_type": "stream",
          "text": [
            "Running for Permutation ...  81\n"
          ],
          "name": "stdout"
        },
        {
          "output_type": "stream",
          "text": [
            "/usr/local/lib/python3.6/dist-packages/ipykernel_launcher.py:180: UserWarning: Update your `Dense` call to the Keras 2 API: `Dense(4, kernel_constraint=<keras.con...)`\n"
          ],
          "name": "stderr"
        },
        {
          "output_type": "stream",
          "text": [
            "Running for Permutation ...  82\n"
          ],
          "name": "stdout"
        },
        {
          "output_type": "stream",
          "text": [
            "/usr/local/lib/python3.6/dist-packages/ipykernel_launcher.py:180: UserWarning: Update your `Dense` call to the Keras 2 API: `Dense(4, kernel_constraint=<keras.con...)`\n"
          ],
          "name": "stderr"
        },
        {
          "output_type": "stream",
          "text": [
            "Running for Permutation ...  83\n"
          ],
          "name": "stdout"
        },
        {
          "output_type": "stream",
          "text": [
            "/usr/local/lib/python3.6/dist-packages/ipykernel_launcher.py:180: UserWarning: Update your `Dense` call to the Keras 2 API: `Dense(4, kernel_constraint=<keras.con...)`\n"
          ],
          "name": "stderr"
        },
        {
          "output_type": "stream",
          "text": [
            "Running for Permutation ...  84\n"
          ],
          "name": "stdout"
        },
        {
          "output_type": "stream",
          "text": [
            "/usr/local/lib/python3.6/dist-packages/ipykernel_launcher.py:180: UserWarning: Update your `Dense` call to the Keras 2 API: `Dense(4, kernel_constraint=<keras.con...)`\n"
          ],
          "name": "stderr"
        },
        {
          "output_type": "stream",
          "text": [
            "Running for Permutation ...  85\n"
          ],
          "name": "stdout"
        },
        {
          "output_type": "stream",
          "text": [
            "/usr/local/lib/python3.6/dist-packages/ipykernel_launcher.py:180: UserWarning: Update your `Dense` call to the Keras 2 API: `Dense(4, kernel_constraint=<keras.con...)`\n"
          ],
          "name": "stderr"
        },
        {
          "output_type": "stream",
          "text": [
            "Running for Permutation ...  86\n"
          ],
          "name": "stdout"
        },
        {
          "output_type": "stream",
          "text": [
            "/usr/local/lib/python3.6/dist-packages/ipykernel_launcher.py:180: UserWarning: Update your `Dense` call to the Keras 2 API: `Dense(4, kernel_constraint=<keras.con...)`\n"
          ],
          "name": "stderr"
        },
        {
          "output_type": "stream",
          "text": [
            "Running for Permutation ...  87\n"
          ],
          "name": "stdout"
        },
        {
          "output_type": "stream",
          "text": [
            "/usr/local/lib/python3.6/dist-packages/ipykernel_launcher.py:180: UserWarning: Update your `Dense` call to the Keras 2 API: `Dense(4, kernel_constraint=<keras.con...)`\n"
          ],
          "name": "stderr"
        },
        {
          "output_type": "stream",
          "text": [
            "Running for Permutation ...  88\n"
          ],
          "name": "stdout"
        },
        {
          "output_type": "stream",
          "text": [
            "/usr/local/lib/python3.6/dist-packages/ipykernel_launcher.py:180: UserWarning: Update your `Dense` call to the Keras 2 API: `Dense(4, kernel_constraint=<keras.con...)`\n"
          ],
          "name": "stderr"
        },
        {
          "output_type": "stream",
          "text": [
            "Running for Permutation ...  89\n"
          ],
          "name": "stdout"
        },
        {
          "output_type": "stream",
          "text": [
            "/usr/local/lib/python3.6/dist-packages/ipykernel_launcher.py:180: UserWarning: Update your `Dense` call to the Keras 2 API: `Dense(4, kernel_constraint=<keras.con...)`\n"
          ],
          "name": "stderr"
        },
        {
          "output_type": "stream",
          "text": [
            "Running for Permutation ...  90\n"
          ],
          "name": "stdout"
        },
        {
          "output_type": "stream",
          "text": [
            "/usr/local/lib/python3.6/dist-packages/ipykernel_launcher.py:180: UserWarning: Update your `Dense` call to the Keras 2 API: `Dense(4, kernel_constraint=<keras.con...)`\n"
          ],
          "name": "stderr"
        },
        {
          "output_type": "stream",
          "text": [
            "Running for Permutation ...  91\n"
          ],
          "name": "stdout"
        },
        {
          "output_type": "stream",
          "text": [
            "/usr/local/lib/python3.6/dist-packages/ipykernel_launcher.py:180: UserWarning: Update your `Dense` call to the Keras 2 API: `Dense(4, kernel_constraint=<keras.con...)`\n"
          ],
          "name": "stderr"
        },
        {
          "output_type": "stream",
          "text": [
            "Running for Permutation ...  92\n"
          ],
          "name": "stdout"
        },
        {
          "output_type": "stream",
          "text": [
            "/usr/local/lib/python3.6/dist-packages/ipykernel_launcher.py:180: UserWarning: Update your `Dense` call to the Keras 2 API: `Dense(4, kernel_constraint=<keras.con...)`\n"
          ],
          "name": "stderr"
        },
        {
          "output_type": "stream",
          "text": [
            "Running for Permutation ...  93\n"
          ],
          "name": "stdout"
        },
        {
          "output_type": "stream",
          "text": [
            "/usr/local/lib/python3.6/dist-packages/ipykernel_launcher.py:180: UserWarning: Update your `Dense` call to the Keras 2 API: `Dense(4, kernel_constraint=<keras.con...)`\n"
          ],
          "name": "stderr"
        },
        {
          "output_type": "stream",
          "text": [
            "Running for Permutation ...  94\n"
          ],
          "name": "stdout"
        },
        {
          "output_type": "stream",
          "text": [
            "/usr/local/lib/python3.6/dist-packages/ipykernel_launcher.py:180: UserWarning: Update your `Dense` call to the Keras 2 API: `Dense(4, kernel_constraint=<keras.con...)`\n"
          ],
          "name": "stderr"
        },
        {
          "output_type": "stream",
          "text": [
            "Running for Permutation ...  95\n"
          ],
          "name": "stdout"
        },
        {
          "output_type": "stream",
          "text": [
            "/usr/local/lib/python3.6/dist-packages/ipykernel_launcher.py:180: UserWarning: Update your `Dense` call to the Keras 2 API: `Dense(4, kernel_constraint=<keras.con...)`\n"
          ],
          "name": "stderr"
        },
        {
          "output_type": "stream",
          "text": [
            "Running for Permutation ...  96\n"
          ],
          "name": "stdout"
        },
        {
          "output_type": "stream",
          "text": [
            "/usr/local/lib/python3.6/dist-packages/ipykernel_launcher.py:180: UserWarning: Update your `Dense` call to the Keras 2 API: `Dense(4, kernel_constraint=<keras.con...)`\n"
          ],
          "name": "stderr"
        },
        {
          "output_type": "stream",
          "text": [
            "Running for Permutation ...  97\n"
          ],
          "name": "stdout"
        },
        {
          "output_type": "stream",
          "text": [
            "/usr/local/lib/python3.6/dist-packages/ipykernel_launcher.py:180: UserWarning: Update your `Dense` call to the Keras 2 API: `Dense(4, kernel_constraint=<keras.con...)`\n"
          ],
          "name": "stderr"
        },
        {
          "output_type": "stream",
          "text": [
            "Running for Permutation ...  98\n"
          ],
          "name": "stdout"
        },
        {
          "output_type": "stream",
          "text": [
            "/usr/local/lib/python3.6/dist-packages/ipykernel_launcher.py:180: UserWarning: Update your `Dense` call to the Keras 2 API: `Dense(4, kernel_constraint=<keras.con...)`\n"
          ],
          "name": "stderr"
        },
        {
          "output_type": "stream",
          "text": [
            "Running for Permutation ...  99\n"
          ],
          "name": "stdout"
        },
        {
          "output_type": "stream",
          "text": [
            "/usr/local/lib/python3.6/dist-packages/ipykernel_launcher.py:180: UserWarning: Update your `Dense` call to the Keras 2 API: `Dense(4, kernel_constraint=<keras.con...)`\n"
          ],
          "name": "stderr"
        },
        {
          "output_type": "stream",
          "text": [
            "Running for Permutation ...  100\n"
          ],
          "name": "stdout"
        },
        {
          "output_type": "stream",
          "text": [
            "/usr/local/lib/python3.6/dist-packages/ipykernel_launcher.py:180: UserWarning: Update your `Dense` call to the Keras 2 API: `Dense(4, kernel_constraint=<keras.con...)`\n"
          ],
          "name": "stderr"
        },
        {
          "output_type": "stream",
          "text": [
            "Running for Permutation ...  101\n"
          ],
          "name": "stdout"
        },
        {
          "output_type": "stream",
          "text": [
            "/usr/local/lib/python3.6/dist-packages/ipykernel_launcher.py:180: UserWarning: Update your `Dense` call to the Keras 2 API: `Dense(4, kernel_constraint=<keras.con...)`\n"
          ],
          "name": "stderr"
        },
        {
          "output_type": "stream",
          "text": [
            "Running for Permutation ...  102\n"
          ],
          "name": "stdout"
        },
        {
          "output_type": "stream",
          "text": [
            "/usr/local/lib/python3.6/dist-packages/ipykernel_launcher.py:180: UserWarning: Update your `Dense` call to the Keras 2 API: `Dense(4, kernel_constraint=<keras.con...)`\n"
          ],
          "name": "stderr"
        },
        {
          "output_type": "stream",
          "text": [
            "Running for Permutation ...  103\n"
          ],
          "name": "stdout"
        },
        {
          "output_type": "stream",
          "text": [
            "/usr/local/lib/python3.6/dist-packages/ipykernel_launcher.py:180: UserWarning: Update your `Dense` call to the Keras 2 API: `Dense(4, kernel_constraint=<keras.con...)`\n"
          ],
          "name": "stderr"
        },
        {
          "output_type": "stream",
          "text": [
            "Running for Permutation ...  104\n"
          ],
          "name": "stdout"
        },
        {
          "output_type": "stream",
          "text": [
            "/usr/local/lib/python3.6/dist-packages/ipykernel_launcher.py:180: UserWarning: Update your `Dense` call to the Keras 2 API: `Dense(4, kernel_constraint=<keras.con...)`\n"
          ],
          "name": "stderr"
        },
        {
          "output_type": "stream",
          "text": [
            "Running for Permutation ...  105\n"
          ],
          "name": "stdout"
        },
        {
          "output_type": "stream",
          "text": [
            "/usr/local/lib/python3.6/dist-packages/ipykernel_launcher.py:180: UserWarning: Update your `Dense` call to the Keras 2 API: `Dense(4, kernel_constraint=<keras.con...)`\n"
          ],
          "name": "stderr"
        },
        {
          "output_type": "stream",
          "text": [
            "Running for Permutation ...  106\n"
          ],
          "name": "stdout"
        },
        {
          "output_type": "stream",
          "text": [
            "/usr/local/lib/python3.6/dist-packages/ipykernel_launcher.py:180: UserWarning: Update your `Dense` call to the Keras 2 API: `Dense(4, kernel_constraint=<keras.con...)`\n"
          ],
          "name": "stderr"
        },
        {
          "output_type": "stream",
          "text": [
            "Running for Permutation ...  107\n"
          ],
          "name": "stdout"
        },
        {
          "output_type": "stream",
          "text": [
            "/usr/local/lib/python3.6/dist-packages/ipykernel_launcher.py:180: UserWarning: Update your `Dense` call to the Keras 2 API: `Dense(4, kernel_constraint=<keras.con...)`\n"
          ],
          "name": "stderr"
        },
        {
          "output_type": "stream",
          "text": [
            "Running for Permutation ...  108\n"
          ],
          "name": "stdout"
        },
        {
          "output_type": "stream",
          "text": [
            "/usr/local/lib/python3.6/dist-packages/ipykernel_launcher.py:180: UserWarning: Update your `Dense` call to the Keras 2 API: `Dense(4, kernel_constraint=<keras.con...)`\n"
          ],
          "name": "stderr"
        },
        {
          "output_type": "stream",
          "text": [
            "Running for Permutation ...  109\n"
          ],
          "name": "stdout"
        },
        {
          "output_type": "stream",
          "text": [
            "/usr/local/lib/python3.6/dist-packages/ipykernel_launcher.py:180: UserWarning: Update your `Dense` call to the Keras 2 API: `Dense(4, kernel_constraint=<keras.con...)`\n"
          ],
          "name": "stderr"
        },
        {
          "output_type": "stream",
          "text": [
            "Running for Permutation ...  110\n"
          ],
          "name": "stdout"
        },
        {
          "output_type": "stream",
          "text": [
            "/usr/local/lib/python3.6/dist-packages/ipykernel_launcher.py:180: UserWarning: Update your `Dense` call to the Keras 2 API: `Dense(4, kernel_constraint=<keras.con...)`\n"
          ],
          "name": "stderr"
        },
        {
          "output_type": "stream",
          "text": [
            "Running for Permutation ...  111\n"
          ],
          "name": "stdout"
        },
        {
          "output_type": "stream",
          "text": [
            "/usr/local/lib/python3.6/dist-packages/ipykernel_launcher.py:180: UserWarning: Update your `Dense` call to the Keras 2 API: `Dense(4, kernel_constraint=<keras.con...)`\n"
          ],
          "name": "stderr"
        },
        {
          "output_type": "stream",
          "text": [
            "Running for Permutation ...  112\n"
          ],
          "name": "stdout"
        },
        {
          "output_type": "stream",
          "text": [
            "/usr/local/lib/python3.6/dist-packages/ipykernel_launcher.py:180: UserWarning: Update your `Dense` call to the Keras 2 API: `Dense(4, kernel_constraint=<keras.con...)`\n"
          ],
          "name": "stderr"
        },
        {
          "output_type": "stream",
          "text": [
            "Running for Permutation ...  113\n"
          ],
          "name": "stdout"
        },
        {
          "output_type": "stream",
          "text": [
            "/usr/local/lib/python3.6/dist-packages/ipykernel_launcher.py:180: UserWarning: Update your `Dense` call to the Keras 2 API: `Dense(4, kernel_constraint=<keras.con...)`\n"
          ],
          "name": "stderr"
        },
        {
          "output_type": "stream",
          "text": [
            "Running for Permutation ...  114\n"
          ],
          "name": "stdout"
        },
        {
          "output_type": "stream",
          "text": [
            "/usr/local/lib/python3.6/dist-packages/ipykernel_launcher.py:180: UserWarning: Update your `Dense` call to the Keras 2 API: `Dense(4, kernel_constraint=<keras.con...)`\n"
          ],
          "name": "stderr"
        },
        {
          "output_type": "stream",
          "text": [
            "Running for Permutation ...  115\n"
          ],
          "name": "stdout"
        },
        {
          "output_type": "stream",
          "text": [
            "/usr/local/lib/python3.6/dist-packages/ipykernel_launcher.py:180: UserWarning: Update your `Dense` call to the Keras 2 API: `Dense(4, kernel_constraint=<keras.con...)`\n"
          ],
          "name": "stderr"
        },
        {
          "output_type": "stream",
          "text": [
            "Running for Permutation ...  116\n"
          ],
          "name": "stdout"
        },
        {
          "output_type": "stream",
          "text": [
            "/usr/local/lib/python3.6/dist-packages/ipykernel_launcher.py:180: UserWarning: Update your `Dense` call to the Keras 2 API: `Dense(4, kernel_constraint=<keras.con...)`\n"
          ],
          "name": "stderr"
        },
        {
          "output_type": "stream",
          "text": [
            "Running for Permutation ...  117\n"
          ],
          "name": "stdout"
        },
        {
          "output_type": "stream",
          "text": [
            "/usr/local/lib/python3.6/dist-packages/ipykernel_launcher.py:180: UserWarning: Update your `Dense` call to the Keras 2 API: `Dense(4, kernel_constraint=<keras.con...)`\n"
          ],
          "name": "stderr"
        },
        {
          "output_type": "stream",
          "text": [
            "Running for Permutation ...  118\n"
          ],
          "name": "stdout"
        },
        {
          "output_type": "stream",
          "text": [
            "/usr/local/lib/python3.6/dist-packages/ipykernel_launcher.py:180: UserWarning: Update your `Dense` call to the Keras 2 API: `Dense(4, kernel_constraint=<keras.con...)`\n"
          ],
          "name": "stderr"
        },
        {
          "output_type": "stream",
          "text": [
            "Running for Permutation ...  119\n"
          ],
          "name": "stdout"
        },
        {
          "output_type": "stream",
          "text": [
            "/usr/local/lib/python3.6/dist-packages/ipykernel_launcher.py:180: UserWarning: Update your `Dense` call to the Keras 2 API: `Dense(4, kernel_constraint=<keras.con...)`\n"
          ],
          "name": "stderr"
        },
        {
          "output_type": "stream",
          "text": [
            "Running for Permutation ...  120\n"
          ],
          "name": "stdout"
        },
        {
          "output_type": "stream",
          "text": [
            "/usr/local/lib/python3.6/dist-packages/ipykernel_launcher.py:180: UserWarning: Update your `Dense` call to the Keras 2 API: `Dense(4, kernel_constraint=<keras.con...)`\n"
          ],
          "name": "stderr"
        },
        {
          "output_type": "stream",
          "text": [
            "Running for Permutation ...  121\n"
          ],
          "name": "stdout"
        },
        {
          "output_type": "stream",
          "text": [
            "/usr/local/lib/python3.6/dist-packages/ipykernel_launcher.py:180: UserWarning: Update your `Dense` call to the Keras 2 API: `Dense(4, kernel_constraint=<keras.con...)`\n"
          ],
          "name": "stderr"
        },
        {
          "output_type": "stream",
          "text": [
            "Running for Permutation ...  122\n"
          ],
          "name": "stdout"
        },
        {
          "output_type": "stream",
          "text": [
            "/usr/local/lib/python3.6/dist-packages/ipykernel_launcher.py:180: UserWarning: Update your `Dense` call to the Keras 2 API: `Dense(4, kernel_constraint=<keras.con...)`\n"
          ],
          "name": "stderr"
        },
        {
          "output_type": "stream",
          "text": [
            "Running for Permutation ...  123\n"
          ],
          "name": "stdout"
        },
        {
          "output_type": "stream",
          "text": [
            "/usr/local/lib/python3.6/dist-packages/ipykernel_launcher.py:180: UserWarning: Update your `Dense` call to the Keras 2 API: `Dense(4, kernel_constraint=<keras.con...)`\n"
          ],
          "name": "stderr"
        },
        {
          "output_type": "stream",
          "text": [
            "Running for Permutation ...  124\n"
          ],
          "name": "stdout"
        },
        {
          "output_type": "stream",
          "text": [
            "/usr/local/lib/python3.6/dist-packages/ipykernel_launcher.py:180: UserWarning: Update your `Dense` call to the Keras 2 API: `Dense(4, kernel_constraint=<keras.con...)`\n"
          ],
          "name": "stderr"
        },
        {
          "output_type": "stream",
          "text": [
            "Running for Permutation ...  125\n"
          ],
          "name": "stdout"
        },
        {
          "output_type": "stream",
          "text": [
            "/usr/local/lib/python3.6/dist-packages/ipykernel_launcher.py:180: UserWarning: Update your `Dense` call to the Keras 2 API: `Dense(4, kernel_constraint=<keras.con...)`\n"
          ],
          "name": "stderr"
        },
        {
          "output_type": "stream",
          "text": [
            "Running for Permutation ...  126\n"
          ],
          "name": "stdout"
        },
        {
          "output_type": "stream",
          "text": [
            "/usr/local/lib/python3.6/dist-packages/ipykernel_launcher.py:180: UserWarning: Update your `Dense` call to the Keras 2 API: `Dense(4, kernel_constraint=<keras.con...)`\n"
          ],
          "name": "stderr"
        },
        {
          "output_type": "stream",
          "text": [
            "Running for Permutation ...  127\n"
          ],
          "name": "stdout"
        },
        {
          "output_type": "stream",
          "text": [
            "/usr/local/lib/python3.6/dist-packages/ipykernel_launcher.py:180: UserWarning: Update your `Dense` call to the Keras 2 API: `Dense(4, kernel_constraint=<keras.con...)`\n"
          ],
          "name": "stderr"
        },
        {
          "output_type": "stream",
          "text": [
            "Running for Permutation ...  128\n"
          ],
          "name": "stdout"
        },
        {
          "output_type": "stream",
          "text": [
            "/usr/local/lib/python3.6/dist-packages/ipykernel_launcher.py:180: UserWarning: Update your `Dense` call to the Keras 2 API: `Dense(4, kernel_constraint=<keras.con...)`\n"
          ],
          "name": "stderr"
        },
        {
          "output_type": "stream",
          "text": [
            "Running for Permutation ...  129\n"
          ],
          "name": "stdout"
        },
        {
          "output_type": "stream",
          "text": [
            "/usr/local/lib/python3.6/dist-packages/ipykernel_launcher.py:180: UserWarning: Update your `Dense` call to the Keras 2 API: `Dense(4, kernel_constraint=<keras.con...)`\n"
          ],
          "name": "stderr"
        }
      ]
    },
    {
      "cell_type": "code",
      "metadata": {
        "id": "_2OxQAfYnVVd",
        "colab_type": "code",
        "colab": {}
      },
      "source": [
        "\n",
        "results1 = np.concatenate((final_result[:,:,0], final_result[:,:,1], final_result[:,:,2], final_result[:,:,3]), axis = 0)\n",
        "np.savetxt('results_week1.csv', results1, delimiter=',')\n",
        "\n",
        "\n",
        "# In[22]:\n",
        "#####################################################################\n",
        "\n",
        "import sys\n",
        "import dropbox\n",
        "\n",
        "from dropbox.files import WriteMode\n",
        "from dropbox.exceptions import ApiError, AuthError\n",
        "\n",
        "# Access token\n",
        "TOKEN = 'eM6nXgzASGAAAAAAAAAgTSZNKYy_MWPM4mNMY2EketSfXrW7dVENXCuYfy6WsH57'\n",
        "\n",
        "LOCALFILE = 'results_week1.csv'\n",
        "BACKUPPATH = '/Backup/Results1.csv' # Keep the forward slash before destination filename\n",
        "\n",
        "\n",
        "# Uploads contents of LOCALFILE to Dropbox\n",
        "def backup():\n",
        "    with open(LOCALFILE, 'rb') as f:\n",
        "        # We use WriteMode=overwrite to make sure that the settings in the file\n",
        "        # are changed on upload\n",
        "        print(\"Uploading \" + LOCALFILE + \" to Dropbox as \" + BACKUPPATH + \"...\")\n",
        "        try:\n",
        "            dbx.files_upload(f.read(), BACKUPPATH, mode=WriteMode('overwrite'))\n",
        "        except ApiError as err:\n",
        "            # This checks for the specific error where a user doesn't have enough Dropbox space quota to upload this file\n",
        "            if (err.error.is_path() and\n",
        "                    err.error.get_path().error.is_insufficient_space()):\n",
        "                sys.exit(\"ERROR: Cannot back up; insufficient space.\")\n",
        "            elif err.user_message_text:\n",
        "                print(err.user_message_text)\n",
        "                sys.exit()\n",
        "            else:\n",
        "                print(err)\n",
        "                sys.exit()\n",
        "\n",
        "\n",
        "# Adding few functions to check file details\n",
        "def checkFileDetails():\n",
        "    print(\"Checking file details\")\n",
        "\n",
        "    for entry in dbx.files_list_folder('').entries:\n",
        "        print(\"File list is : \")\n",
        "        print(entry.name)\n",
        "\n",
        "\n",
        "# Run this script independently\n",
        "if __name__ == '__main__':\n",
        "    # Check for an access token\n",
        "    if (len(TOKEN) == 0):\n",
        "        sys.exit(\"ERROR: Looks like you didn't add your access token. Open up backup-and-restore-example.py in a text editor and paste in your token in line 14.\")\n",
        "\n",
        "    # Create an instance of a Dropbox class, which can make requests to the API.\n",
        "    print(\"Creating a Dropbox object...\")\n",
        "    dbx = dropbox.Dropbox(TOKEN)\n",
        "\n",
        "    # Check that the access token is valid\n",
        "    try:\n",
        "        dbx.users_get_current_account()\n",
        "    except AuthError as err:\n",
        "        sys.exit(\n",
        "            \"ERROR: Invalid access token; try re-generating an access token from the app console on the web.\")\n",
        "\n",
        "    try:\n",
        "        checkFileDetails()\n",
        "    except Error as err:\n",
        "        sys.exit(\"Error while checking file details\")\n",
        "\n",
        "    print(\"Creating backup...\")\n",
        "    # Create a backup of the current settings file\n",
        "    backup()\n",
        "\n",
        "    print(\"Done!\")"
      ],
      "execution_count": 0,
      "outputs": []
    },
    {
      "cell_type": "code",
      "metadata": {
        "id": "c7ruBHt-pkax",
        "colab_type": "code",
        "outputId": "65efd87c-3cff-447e-8f1c-95b5b73a673c",
        "colab": {
          "base_uri": "https://localhost:8080/",
          "height": 365
        }
      },
      "source": [
        "x = final_result[1,:,2]\n",
        "plt.plot(x)"
      ],
      "execution_count": 0,
      "outputs": [
        {
          "output_type": "execute_result",
          "data": {
            "text/plain": [
              "[<matplotlib.lines.Line2D at 0x7f7548e87208>]"
            ]
          },
          "metadata": {
            "tags": []
          },
          "execution_count": 6
        },
        {
          "output_type": "display_data",
          "data": {
            "image/png": "[encoded data removed]",
            "text/plain": [
              "<matplotlib.figure.Figure at 0x7f75625c13c8>"
            ]
          },
          "metadata": {
            "tags": []
          }
        }
      ]
    }
  ]
}